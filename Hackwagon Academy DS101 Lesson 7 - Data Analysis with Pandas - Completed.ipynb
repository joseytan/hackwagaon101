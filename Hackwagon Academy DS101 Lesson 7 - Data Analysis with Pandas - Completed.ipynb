{
 "cells": [
  {
   "cell_type": "markdown",
   "metadata": {},
   "source": [
    "<center><img src=\"https://i2.wp.com/hackwagon.com/wp-content/uploads/2017/02/Logo-Web-Export.png?ssl=1\" width=200/></center>\n",
    "\n",
    "<h1> Hackwagon Academy DS101 Lesson 7 </h1>\n",
    "<h2>🐼 Data Analysis with Pandas 🐼</h2> \n",
    "<h3> Lesson Outline </h3>\n",
    "\n",
    "\n",
    "- 1. [Pandas](#1)\n",
    "    - 1.1 [Series](#1.1)\n",
    "    - 1.2 [DataFrame](#1.2)\n",
    "        - 1.2.1 [Manual Way](#1.2.1)\n",
    "        - 1.2.2 [Pandas Way](#1.2.2)\n",
    "    - 1.3 [Filtering](#1.3)\n",
    "    - 1.4 [Statistical Operations](#1.4)\n",
    "    - [Practice I](#P1)\n",
    "    - 1.5 [Visualisation](#1.5)\n",
    "        - 1.5.1 [Bar Chart](#1.5.1)\n",
    "        - 1.5.2 [Line Chart](#1.5.2)\n",
    "        - 1.5.3 [Scatter Plot](#1.5.3) \n",
    "    - [Practice II](#P2)\n",
    "- 2. [Airbnb Dataset](#2)\n",
    "- 3. [Practice III](#P3)"
   ]
  },
  {
   "cell_type": "markdown",
   "metadata": {},
   "source": [
    "<a id='1'><h2><img src=\"https://images.vexels.com/media/users/3/153978/isolated/preview/483ef8b10a46e28d02293a31570c8c56-warning-sign-colored-stroke-icon-by-vexels.png\" width=25 align=\"left\"><font color=\"salmon\">&nbsp;1.</font><font color=\"salmon\"> Pandas </font> </h2></a>\n",
    "\n",
    "<i>\"Pandas is a software library written for the Python programming language for data manipulation and analysis. In particular, it offers data structures and operations for manipulating numerical tables and time series.\"</i>\n",
    "\n",
    "To know more about <b>pandas</b>, read the documentation here: http://pandas.pydata.org/pandas-docs/stable/"
   ]
  },
  {
   "cell_type": "code",
   "execution_count": 1,
   "metadata": {},
   "outputs": [],
   "source": [
    "import pandas as pd"
   ]
  },
  {
   "cell_type": "markdown",
   "metadata": {},
   "source": [
    "<a id=\"1.1\"> <h3>1.1 DataFrame </h3></a>\n",
    "\n",
    "A two-dimensional, tabular data structure with labeled axes (rows and columns), and is the **primary** pandas data structure. You can think of a `DataFrame` as a spreadsheet in Python.\n",
    "A `DataFrame` is made up of multiple `Series` objects stuck together vertically and horizontally. <br>"
   ]
  },
  {
   "cell_type": "markdown",
   "metadata": {},
   "source": [
    "<a id=\"1.1.1\"> <h4>1.1.1 Manual Way </h4></a>\n",
    "\n",
    "Using a combination of lists and dictionaries\n",
    "#### List of Lists"
   ]
  },
  {
   "cell_type": "code",
   "execution_count": 5,
   "metadata": {},
   "outputs": [
    {
     "data": {
      "text/html": [
       "<div>\n",
       "<style scoped>\n",
       "    .dataframe tbody tr th:only-of-type {\n",
       "        vertical-align: middle;\n",
       "    }\n",
       "\n",
       "    .dataframe tbody tr th {\n",
       "        vertical-align: top;\n",
       "    }\n",
       "\n",
       "    .dataframe thead th {\n",
       "        text-align: right;\n",
       "    }\n",
       "</style>\n",
       "<table border=\"1\" class=\"dataframe\">\n",
       "  <thead>\n",
       "    <tr style=\"text-align: right;\">\n",
       "      <th></th>\n",
       "      <th>name</th>\n",
       "      <th>age</th>\n",
       "      <th>salary</th>\n",
       "    </tr>\n",
       "  </thead>\n",
       "  <tbody>\n",
       "    <tr>\n",
       "      <th>0</th>\n",
       "      <td>Alex</td>\n",
       "      <td>20</td>\n",
       "      <td>1050</td>\n",
       "    </tr>\n",
       "    <tr>\n",
       "      <th>1</th>\n",
       "      <td>Bob</td>\n",
       "      <td>52</td>\n",
       "      <td>1400</td>\n",
       "    </tr>\n",
       "    <tr>\n",
       "      <th>2</th>\n",
       "      <td>Cat</td>\n",
       "      <td>23</td>\n",
       "      <td>1690</td>\n",
       "    </tr>\n",
       "  </tbody>\n",
       "</table>\n",
       "</div>"
      ],
      "text/plain": [
       "   name  age  salary\n",
       "0  Alex   20    1050\n",
       "1   Bob   52    1400\n",
       "2   Cat   23    1690"
      ]
     },
     "execution_count": 5,
     "metadata": {},
     "output_type": "execute_result"
    }
   ],
   "source": [
    "data = [\n",
    "    ['Alex', 20, 1050],\n",
    "    ['Bob', 52, 1400],\n",
    "    ['Cat', 23, 1690]\n",
    "]\n",
    "\n",
    "# Write your code below:\n",
    "df = pd.DataFrame(data, columns=[\"name\", \"age\", \"salary\"])\n",
    "df.head()"
   ]
  },
  {
   "cell_type": "markdown",
   "metadata": {},
   "source": [
    "#### List of Dictionaries"
   ]
  },
  {
   "cell_type": "code",
   "execution_count": 8,
   "metadata": {},
   "outputs": [
    {
     "data": {
      "text/html": [
       "<div>\n",
       "<style scoped>\n",
       "    .dataframe tbody tr th:only-of-type {\n",
       "        vertical-align: middle;\n",
       "    }\n",
       "\n",
       "    .dataframe tbody tr th {\n",
       "        vertical-align: top;\n",
       "    }\n",
       "\n",
       "    .dataframe thead th {\n",
       "        text-align: right;\n",
       "    }\n",
       "</style>\n",
       "<table border=\"1\" class=\"dataframe\">\n",
       "  <thead>\n",
       "    <tr style=\"text-align: right;\">\n",
       "      <th></th>\n",
       "      <th>name</th>\n",
       "      <th>age</th>\n",
       "      <th>salary</th>\n",
       "    </tr>\n",
       "  </thead>\n",
       "  <tbody>\n",
       "    <tr>\n",
       "      <th>0</th>\n",
       "      <td>Alex</td>\n",
       "      <td>20</td>\n",
       "      <td>1050</td>\n",
       "    </tr>\n",
       "    <tr>\n",
       "      <th>1</th>\n",
       "      <td>Bob</td>\n",
       "      <td>52</td>\n",
       "      <td>1400</td>\n",
       "    </tr>\n",
       "    <tr>\n",
       "      <th>2</th>\n",
       "      <td>Cat</td>\n",
       "      <td>23</td>\n",
       "      <td>1690</td>\n",
       "    </tr>\n",
       "  </tbody>\n",
       "</table>\n",
       "</div>"
      ],
      "text/plain": [
       "   name  age  salary\n",
       "0  Alex   20    1050\n",
       "1   Bob   52    1400\n",
       "2   Cat   23    1690"
      ]
     },
     "execution_count": 8,
     "metadata": {},
     "output_type": "execute_result"
    }
   ],
   "source": [
    "data = [\n",
    "    {'name': 'Alex', 'age': 20, 'salary': 1050},\n",
    "    {'name': 'Bob', 'age': 52, 'salary': 1400},\n",
    "    {'name': 'Cat', 'age': 23, 'salary': 1690}\n",
    "]\n",
    "\n",
    "# Write your code below:\n",
    "df = pd.DataFrame(data)\n",
    "df.head()"
   ]
  },
  {
   "cell_type": "markdown",
   "metadata": {},
   "source": [
    "<a id=\"1.1.2\"> <h4>1.2.2 From Dataset </h4></a>\n",
    "\n",
    "With `pandas`, opening a file is simply just using the `.read_csv()` function. Download the <b>Graduates dataset</b> from elearn `\"graduates-from-university-first-degree-courses-by-type-of-course_CLEAN.csv\"`.\n",
    "\n",
    "```python\n",
    "pd.read_csv(\"filename.csv\")\n",
    "```"
   ]
  },
  {
   "cell_type": "code",
   "execution_count": 10,
   "metadata": {
    "scrolled": true
   },
   "outputs": [
    {
     "name": "stdout",
     "output_type": "stream",
     "text": [
      "(660, 4)\n"
     ]
    },
    {
     "data": {
      "text/html": [
       "<div>\n",
       "<style scoped>\n",
       "    .dataframe tbody tr th:only-of-type {\n",
       "        vertical-align: middle;\n",
       "    }\n",
       "\n",
       "    .dataframe tbody tr th {\n",
       "        vertical-align: top;\n",
       "    }\n",
       "\n",
       "    .dataframe thead th {\n",
       "        text-align: right;\n",
       "    }\n",
       "</style>\n",
       "<table border=\"1\" class=\"dataframe\">\n",
       "  <thead>\n",
       "    <tr style=\"text-align: right;\">\n",
       "      <th></th>\n",
       "      <th>year</th>\n",
       "      <th>sex</th>\n",
       "      <th>type_of_course</th>\n",
       "      <th>no_of_graduates</th>\n",
       "    </tr>\n",
       "  </thead>\n",
       "  <tbody>\n",
       "    <tr>\n",
       "      <th>0</th>\n",
       "      <td>1993</td>\n",
       "      <td>Males</td>\n",
       "      <td>Education</td>\n",
       "      <td>0</td>\n",
       "    </tr>\n",
       "    <tr>\n",
       "      <th>1</th>\n",
       "      <td>1993</td>\n",
       "      <td>Males</td>\n",
       "      <td>Applied Arts</td>\n",
       "      <td>0</td>\n",
       "    </tr>\n",
       "    <tr>\n",
       "      <th>2</th>\n",
       "      <td>1993</td>\n",
       "      <td>Males</td>\n",
       "      <td>Humanities &amp; Social Sciences</td>\n",
       "      <td>481</td>\n",
       "    </tr>\n",
       "    <tr>\n",
       "      <th>3</th>\n",
       "      <td>1993</td>\n",
       "      <td>Males</td>\n",
       "      <td>Mass Communication</td>\n",
       "      <td>0</td>\n",
       "    </tr>\n",
       "    <tr>\n",
       "      <th>4</th>\n",
       "      <td>1993</td>\n",
       "      <td>Males</td>\n",
       "      <td>Accountancy</td>\n",
       "      <td>295</td>\n",
       "    </tr>\n",
       "  </tbody>\n",
       "</table>\n",
       "</div>"
      ],
      "text/plain": [
       "   year    sex                type_of_course  no_of_graduates\n",
       "0  1993  Males                     Education                0\n",
       "1  1993  Males                  Applied Arts                0\n",
       "2  1993  Males  Humanities & Social Sciences              481\n",
       "3  1993  Males            Mass Communication                0\n",
       "4  1993  Males                   Accountancy              295"
      ]
     },
     "execution_count": 10,
     "metadata": {},
     "output_type": "execute_result"
    }
   ],
   "source": [
    "# Write your code below:\n",
    "df = pd.read_csv(\"graduates-from-university-first-degree-courses-by-type-of-course_CLEAN.csv\")\n",
    "print(df.shape)\n",
    "df.head()"
   ]
  },
  {
   "cell_type": "markdown",
   "metadata": {},
   "source": [
    "<a id=\"1.2\"> <h3>1.2 Series </h3></a>\n",
    "\n",
    "A `Series` == Row / Column of a `Dataframe`\n",
    "\n",
    "- Extracting a column from a `Dataframe` is very similar to accessing data in a `dictionary`. "
   ]
  },
  {
   "cell_type": "code",
   "execution_count": 19,
   "metadata": {},
   "outputs": [
    {
     "name": "stdout",
     "output_type": "stream",
     "text": [
      "0    20\n",
      "1    10\n",
      "2    30\n",
      "3    40\n",
      "dtype: int64\n",
      "[20, 10, 30, 40]\n",
      "[10, 20, 30, 40]\n",
      "0    20\n",
      "1    10\n",
      "2    30\n",
      "3    40\n",
      "dtype: int64\n",
      "1    10\n",
      "0    20\n",
      "2    30\n",
      "3    40\n",
      "dtype: int64\n"
     ]
    }
   ],
   "source": [
    "numbers = [20,10,30,40]\n",
    "\n",
    "# Write your code below:\n",
    "s = pd.Series(numbers)\n",
    "print(s)\n",
    "\n",
    "print(numbers)\n",
    "print(sorted(numbers))\n",
    "\n",
    "print(s)\n",
    "print(s.sort_values())"
   ]
  },
  {
   "cell_type": "markdown",
   "metadata": {},
   "source": [
    "#### Extracting a row (Series) from a DataFrame\n",
    "\n",
    "We can extract a row using the `.iloc[]` function where in the `[]` is the row number."
   ]
  },
  {
   "cell_type": "code",
   "execution_count": 12,
   "metadata": {},
   "outputs": [
    {
     "data": {
      "text/plain": [
       "year                    1993\n",
       "sex                    Males\n",
       "type_of_course     Education\n",
       "no_of_graduates            0\n",
       "Name: 0, dtype: object"
      ]
     },
     "execution_count": 12,
     "metadata": {},
     "output_type": "execute_result"
    }
   ],
   "source": [
    "# Write your code below:\n",
    "df.iloc[0]"
   ]
  },
  {
   "cell_type": "markdown",
   "metadata": {},
   "source": [
    "#### Extracting a column (Series) from a DataFrame\n",
    "\n",
    "We can extract a column in a `DataFrame` by just calling the column header, similar to a dictionary. "
   ]
  },
  {
   "cell_type": "code",
   "execution_count": 20,
   "metadata": {
    "scrolled": true
   },
   "outputs": [
    {
     "data": {
      "text/plain": [
       "0         0\n",
       "1         0\n",
       "2       481\n",
       "3         0\n",
       "4       295\n",
       "       ... \n",
       "655     309\n",
       "656     289\n",
       "657     258\n",
       "658    1251\n",
       "659     219\n",
       "Name: no_of_graduates, Length: 660, dtype: int64"
      ]
     },
     "execution_count": 20,
     "metadata": {},
     "output_type": "execute_result"
    }
   ],
   "source": [
    "# Write your code below:\n",
    "df[\"no_of_graduates\"]"
   ]
  },
  {
   "cell_type": "markdown",
   "metadata": {},
   "source": [
    "<a id=\"1.3\"> <h3>1.3 Filtering </h3></a>\n",
    "\n",
    "We can filter for results within a `DataFrame` to get the data we want. \n",
    "\n",
    "We specify the column we want to isolate in the DataFrame, then specify the boolean condition we are looking for. For example, we want to find the `Females` in the `Sex` column. \n",
    "\n",
    "```python\n",
    "df['sex'] == 'Females'\n",
    "\n",
    "# or for multiple conditions, we link them by & (and) or | (or) symbols\n",
    "# where each condition is surrounded by a ()\n",
    "\n",
    "(df['sex'] == 'Females') & (df['type_of_course'] == 'Medicine')\n",
    "\n",
    "```\n",
    "\n",
    "This gives us a Boolean Series of multiple `True` and `False` values. "
   ]
  },
  {
   "cell_type": "code",
   "execution_count": 22,
   "metadata": {
    "scrolled": true
   },
   "outputs": [
    {
     "data": {
      "text/plain": [
       "0      False\n",
       "1      False\n",
       "2      False\n",
       "3      False\n",
       "4      False\n",
       "       ...  \n",
       "655    False\n",
       "656    False\n",
       "657    False\n",
       "658    False\n",
       "659    False\n",
       "Length: 660, dtype: bool"
      ]
     },
     "execution_count": 22,
     "metadata": {},
     "output_type": "execute_result"
    }
   ],
   "source": [
    "#(df['sex'] == 'Females') | (df['type_of_course'] == 'Medicine')\n",
    "\n",
    "# Write your code below:\n",
    "df['sex'] == 'Females'\n",
    "(df['sex'] == 'Females') & (df['type_of_course'] == 'Medicine')"
   ]
  },
  {
   "cell_type": "markdown",
   "metadata": {},
   "source": [
    "We put this Boolean Series inside another `[]` to take out the data within the DataFrame. What this does is it only extracts the rows with the `True` value within the DataFrame. For example,\n",
    "\n",
    "```python\n",
    "df[df['sex'] == 'Females']\n",
    "\n",
    "```\n",
    "\n",
    "<b> It is important to note that this does not permanently alter or change the original DataFrame in any way. As such, all filtered data should be stored into another variable.</b>"
   ]
  },
  {
   "cell_type": "code",
   "execution_count": 23,
   "metadata": {
    "scrolled": true
   },
   "outputs": [
    {
     "data": {
      "text/html": [
       "<div>\n",
       "<style scoped>\n",
       "    .dataframe tbody tr th:only-of-type {\n",
       "        vertical-align: middle;\n",
       "    }\n",
       "\n",
       "    .dataframe tbody tr th {\n",
       "        vertical-align: top;\n",
       "    }\n",
       "\n",
       "    .dataframe thead th {\n",
       "        text-align: right;\n",
       "    }\n",
       "</style>\n",
       "<table border=\"1\" class=\"dataframe\">\n",
       "  <thead>\n",
       "    <tr style=\"text-align: right;\">\n",
       "      <th></th>\n",
       "      <th>year</th>\n",
       "      <th>sex</th>\n",
       "      <th>type_of_course</th>\n",
       "      <th>no_of_graduates</th>\n",
       "    </tr>\n",
       "  </thead>\n",
       "  <tbody>\n",
       "    <tr>\n",
       "      <th>15</th>\n",
       "      <td>1993</td>\n",
       "      <td>Females</td>\n",
       "      <td>Education</td>\n",
       "      <td>0</td>\n",
       "    </tr>\n",
       "    <tr>\n",
       "      <th>16</th>\n",
       "      <td>1993</td>\n",
       "      <td>Females</td>\n",
       "      <td>Applied Arts</td>\n",
       "      <td>0</td>\n",
       "    </tr>\n",
       "    <tr>\n",
       "      <th>17</th>\n",
       "      <td>1993</td>\n",
       "      <td>Females</td>\n",
       "      <td>Humanities &amp; Social Sciences</td>\n",
       "      <td>1173</td>\n",
       "    </tr>\n",
       "    <tr>\n",
       "      <th>18</th>\n",
       "      <td>1993</td>\n",
       "      <td>Females</td>\n",
       "      <td>Mass Communication</td>\n",
       "      <td>0</td>\n",
       "    </tr>\n",
       "    <tr>\n",
       "      <th>19</th>\n",
       "      <td>1993</td>\n",
       "      <td>Females</td>\n",
       "      <td>Accountancy</td>\n",
       "      <td>396</td>\n",
       "    </tr>\n",
       "    <tr>\n",
       "      <th>...</th>\n",
       "      <td>...</td>\n",
       "      <td>...</td>\n",
       "      <td>...</td>\n",
       "      <td>...</td>\n",
       "    </tr>\n",
       "    <tr>\n",
       "      <th>655</th>\n",
       "      <td>2014</td>\n",
       "      <td>Females</td>\n",
       "      <td>Health Sciences</td>\n",
       "      <td>309</td>\n",
       "    </tr>\n",
       "    <tr>\n",
       "      <th>656</th>\n",
       "      <td>2014</td>\n",
       "      <td>Females</td>\n",
       "      <td>Information Technology</td>\n",
       "      <td>289</td>\n",
       "    </tr>\n",
       "    <tr>\n",
       "      <th>657</th>\n",
       "      <td>2014</td>\n",
       "      <td>Females</td>\n",
       "      <td>Architecture &amp; Building</td>\n",
       "      <td>258</td>\n",
       "    </tr>\n",
       "    <tr>\n",
       "      <th>658</th>\n",
       "      <td>2014</td>\n",
       "      <td>Females</td>\n",
       "      <td>Engineering Sciences</td>\n",
       "      <td>1251</td>\n",
       "    </tr>\n",
       "    <tr>\n",
       "      <th>659</th>\n",
       "      <td>2014</td>\n",
       "      <td>Females</td>\n",
       "      <td>Services</td>\n",
       "      <td>219</td>\n",
       "    </tr>\n",
       "  </tbody>\n",
       "</table>\n",
       "<p>330 rows × 4 columns</p>\n",
       "</div>"
      ],
      "text/plain": [
       "     year      sex                type_of_course  no_of_graduates\n",
       "15   1993  Females                     Education                0\n",
       "16   1993  Females                  Applied Arts                0\n",
       "17   1993  Females  Humanities & Social Sciences             1173\n",
       "18   1993  Females            Mass Communication                0\n",
       "19   1993  Females                   Accountancy              396\n",
       "..    ...      ...                           ...              ...\n",
       "655  2014  Females               Health Sciences              309\n",
       "656  2014  Females        Information Technology              289\n",
       "657  2014  Females       Architecture & Building              258\n",
       "658  2014  Females          Engineering Sciences             1251\n",
       "659  2014  Females                      Services              219\n",
       "\n",
       "[330 rows x 4 columns]"
      ]
     },
     "execution_count": 23,
     "metadata": {},
     "output_type": "execute_result"
    }
   ],
   "source": [
    "# Write your code below:\n",
    "\n",
    "df[df['sex'] == 'Females']"
   ]
  },
  {
   "cell_type": "markdown",
   "metadata": {},
   "source": [
    "<a id=\"1.4\"> <h3>1.4 Statistical Operations</h3></a>\n",
    "\n",
    "`Dataframes` and `Series` objects have many useful methods to help you compute statistics.\n",
    "\n",
    "<table>\n",
    "  <tr>\n",
    "    <th>Statistical measure</th>\n",
    "    <th>Dataframe method</th>\n",
    "    <th>Series method</th>\n",
    "    <th>Description</th>\n",
    "  </tr>\n",
    "  <tr>\n",
    "    <td>Mean</td>\n",
    "    <td>df.mean()</td>\n",
    "    <td>df['column_name'].mean()</td>\n",
    "    <td>Returns the mean of all columns / the selected column</td>\n",
    "  </tr>\n",
    "  <tr>\n",
    "    <td>Median</td>\n",
    "    <td>df.median()</td>\n",
    "    <td>df['column_name'].median()</td>\n",
    "    <td>Returns the median of all columns / the selected column</td>\n",
    "  </tr>\n",
    "  <tr>\n",
    "    <td>Standard Deviation</td>\n",
    "    <td>df.std()</td>\n",
    "    <td>df['column_name'].std()</td>\n",
    "    <td>Returns the standard deviation of all columns / the selected column</td>\n",
    "  </tr>\n",
    "  <tr>\n",
    "    <td>Sum</td>\n",
    "    <td>df.sum()</td>\n",
    "    <td>df['column_name'].sum()</td>\n",
    "    <td>Returns the sum of all columns / the selected column</td>\n",
    "  </tr>\n",
    "  <tr>\n",
    "    <td>...</td>\n",
    "    <td>...</td>\n",
    "    <td>...</td>\n",
    "    <td>...</td>\n",
    "  </tr>\n",
    "</table>"
   ]
  },
  {
   "cell_type": "code",
   "execution_count": 25,
   "metadata": {},
   "outputs": [
    {
     "name": "stdout",
     "output_type": "stream",
     "text": [
      "548.0897242528899\n"
     ]
    },
    {
     "data": {
      "text/plain": [
       "365.8090909090909"
      ]
     },
     "execution_count": 25,
     "metadata": {},
     "output_type": "execute_result"
    }
   ],
   "source": [
    "# Write your code below:\n",
    "# find standard deviation of no_of_graduates\n",
    "\n",
    "print(df[\"no_of_graduates\"].std())\n",
    "\n",
    "# find mean of female graduates\n",
    "df[df['sex'] == 'Females'][\"no_of_graduates\"].mean()"
   ]
  },
  {
   "cell_type": "markdown",
   "metadata": {},
   "source": [
    "<a id=\"P1\"><h2><img src=\"https://cdn.shopify.com/s/files/1/1200/7374/products/book_aec28e76-52ec-44ab-bc01-41df1279c89f_550x825.png?v=1473897430\" width=25 align=\"left\"> <font color=\"darkorange\"> &nbsp; Practice I </font><font color=\"skyblue\"> * </font></h2></a>\n",
    "\n",
    "\n",
    "#### Question 1\n",
    "\n",
    "<b>How many `Females` students have taken `Law`?</b>\n",
    "\n",
    "**Expected output:**\n",
    "\n",
    "    2574"
   ]
  },
  {
   "cell_type": "code",
   "execution_count": 26,
   "metadata": {},
   "outputs": [
    {
     "data": {
      "text/plain": [
       "2574"
      ]
     },
     "execution_count": 26,
     "metadata": {},
     "output_type": "execute_result"
    }
   ],
   "source": [
    "# Write your code below:\n",
    "\n",
    "# df_female_law = df[(df[\"sex\"] == \"Females\") & (df[\"type_of_course\"] == \"Law\")]\n",
    "cond1 = df[\"sex\"] == \"Females\"\n",
    "cond2 = df[\"type_of_course\"] == \"Law\"\n",
    "\n",
    "df_female_law = df[cond1 & cond2]\n",
    "df_female_law[\"no_of_graduates\"].sum()"
   ]
  },
  {
   "cell_type": "markdown",
   "metadata": {},
   "source": [
    "#### Question 2\n",
    "\n",
    "<b>How many students have taken `Information Technology` between 2000 and 2014, both years inclusive?</b>\n",
    "\n",
    "**Expected output:**\n",
    "\n",
    "    9084"
   ]
  },
  {
   "cell_type": "code",
   "execution_count": 28,
   "metadata": {},
   "outputs": [
    {
     "data": {
      "text/plain": [
       "9084"
      ]
     },
     "execution_count": 28,
     "metadata": {},
     "output_type": "execute_result"
    }
   ],
   "source": [
    "# Write your code below:\n",
    "\n",
    "cond1 = df[\"type_of_course\"] == \"Information Technology\"\n",
    "cond2 = 2000 <= df[\"year\"]\n",
    "cond3 = df[\"year\"] <= 2014\n",
    "\n",
    "df_it_2000_2004 = df[cond1 & cond2 & cond3]\n",
    "df_it_2000_2004[\"no_of_graduates\"].sum()"
   ]
  },
  {
   "cell_type": "markdown",
   "metadata": {},
   "source": [
    "<a id=\"1.5\"> <h3>1.5 Visualisation </h3></a>\n",
    "\n",
    "<b>Pandas</b> interfaces beautifully with <b>Matplotlib</b> to provide us with a very high-level, easy-to-use application program interface (API)."
   ]
  },
  {
   "cell_type": "markdown",
   "metadata": {},
   "source": [
    "<a id=\"1.5.1\"> <h4>1.5.1 Bar Chart </h4></a>\n",
    "\n",
    "We can create Bar Charts with pandas easily. Here we take <b>Alcohol Consumption By Country</b> this url: https://raw.githubusercontent.com/plotly/datasets/master/2010_alcohol_consumption_by_country.csv"
   ]
  },
  {
   "cell_type": "code",
   "execution_count": 30,
   "metadata": {
    "scrolled": true
   },
   "outputs": [
    {
     "data": {
      "text/html": [
       "<div>\n",
       "<style scoped>\n",
       "    .dataframe tbody tr th:only-of-type {\n",
       "        vertical-align: middle;\n",
       "    }\n",
       "\n",
       "    .dataframe tbody tr th {\n",
       "        vertical-align: top;\n",
       "    }\n",
       "\n",
       "    .dataframe thead th {\n",
       "        text-align: right;\n",
       "    }\n",
       "</style>\n",
       "<table border=\"1\" class=\"dataframe\">\n",
       "  <thead>\n",
       "    <tr style=\"text-align: right;\">\n",
       "      <th></th>\n",
       "      <th>location</th>\n",
       "      <th>alcohol</th>\n",
       "    </tr>\n",
       "  </thead>\n",
       "  <tbody>\n",
       "    <tr>\n",
       "      <th>0</th>\n",
       "      <td>Belarus</td>\n",
       "      <td>17.5</td>\n",
       "    </tr>\n",
       "    <tr>\n",
       "      <th>1</th>\n",
       "      <td>Moldova</td>\n",
       "      <td>16.8</td>\n",
       "    </tr>\n",
       "    <tr>\n",
       "      <th>2</th>\n",
       "      <td>Lithuania</td>\n",
       "      <td>15.4</td>\n",
       "    </tr>\n",
       "    <tr>\n",
       "      <th>3</th>\n",
       "      <td>Russia</td>\n",
       "      <td>15.1</td>\n",
       "    </tr>\n",
       "    <tr>\n",
       "      <th>4</th>\n",
       "      <td>Romania</td>\n",
       "      <td>14.4</td>\n",
       "    </tr>\n",
       "  </tbody>\n",
       "</table>\n",
       "</div>"
      ],
      "text/plain": [
       "    location  alcohol\n",
       "0    Belarus     17.5\n",
       "1    Moldova     16.8\n",
       "2  Lithuania     15.4\n",
       "3     Russia     15.1\n",
       "4    Romania     14.4"
      ]
     },
     "metadata": {},
     "output_type": "display_data"
    },
    {
     "data": {
      "text/plain": [
       "<matplotlib.axes._subplots.AxesSubplot at 0x11d736e48>"
      ]
     },
     "execution_count": 30,
     "metadata": {},
     "output_type": "execute_result"
    },
    {
     "data": {
      "image/png": "[encoded data removed]",
      "text/plain": [
       "<Figure size 432x288 with 1 Axes>"
      ]
     },
     "metadata": {
      "needs_background": "light"
     },
     "output_type": "display_data"
    }
   ],
   "source": [
    "import pandas as pd\n",
    "import matplotlib.pyplot as plt\n",
    "url = \"https://raw.githubusercontent.com/plotly/datasets/master/2010_alcohol_consumption_by_country.csv\"\n",
    "\n",
    "# Write your code below:\n",
    "df = pd.read_csv(url)\n",
    "display(df.head())\n",
    "\n",
    "\n",
    "# Fill up the parameters\n",
    "df.iloc[:10].plot(\n",
    "    kind=\"bar\",\n",
    "    x=\"location\", \n",
    "    y=\"alcohol\", \n",
    "    color=\"orange\", \n",
    "    title=\"Alcohol Comsumption By Country\",\n",
    "    ylim=(10, 18)\n",
    ")"
   ]
  },
  {
   "cell_type": "markdown",
   "metadata": {},
   "source": [
    "<a id=\"1.5.2\"> <h4>1.5.2 Line Chart </h4></a>\n",
    "\n",
    "_The line chart is represented by a series of datapoints connected with a straight line. Line charts are most often used to visualize data that changes over time._\n",
    "\n",
    "**Example**\n",
    "\n",
    "`Apple Stock Price Data` \n",
    "\n",
    "source: https://raw.githubusercontent.com/plotly/datasets/master/2014_apple_stock.csv"
   ]
  },
  {
   "cell_type": "code",
   "execution_count": 32,
   "metadata": {},
   "outputs": [
    {
     "data": {
      "text/html": [
       "<div>\n",
       "<style scoped>\n",
       "    .dataframe tbody tr th:only-of-type {\n",
       "        vertical-align: middle;\n",
       "    }\n",
       "\n",
       "    .dataframe tbody tr th {\n",
       "        vertical-align: top;\n",
       "    }\n",
       "\n",
       "    .dataframe thead th {\n",
       "        text-align: right;\n",
       "    }\n",
       "</style>\n",
       "<table border=\"1\" class=\"dataframe\">\n",
       "  <thead>\n",
       "    <tr style=\"text-align: right;\">\n",
       "      <th></th>\n",
       "      <th>AAPL_x</th>\n",
       "      <th>AAPL_y</th>\n",
       "    </tr>\n",
       "  </thead>\n",
       "  <tbody>\n",
       "    <tr>\n",
       "      <th>0</th>\n",
       "      <td>2014-01-02</td>\n",
       "      <td>77.445395</td>\n",
       "    </tr>\n",
       "    <tr>\n",
       "      <th>1</th>\n",
       "      <td>2014-01-03</td>\n",
       "      <td>77.045575</td>\n",
       "    </tr>\n",
       "    <tr>\n",
       "      <th>2</th>\n",
       "      <td>2014-01-06</td>\n",
       "      <td>74.896972</td>\n",
       "    </tr>\n",
       "    <tr>\n",
       "      <th>3</th>\n",
       "      <td>2014-01-07</td>\n",
       "      <td>75.856461</td>\n",
       "    </tr>\n",
       "    <tr>\n",
       "      <th>4</th>\n",
       "      <td>2014-01-08</td>\n",
       "      <td>75.091947</td>\n",
       "    </tr>\n",
       "  </tbody>\n",
       "</table>\n",
       "</div>"
      ],
      "text/plain": [
       "       AAPL_x     AAPL_y\n",
       "0  2014-01-02  77.445395\n",
       "1  2014-01-03  77.045575\n",
       "2  2014-01-06  74.896972\n",
       "3  2014-01-07  75.856461\n",
       "4  2014-01-08  75.091947"
      ]
     },
     "metadata": {},
     "output_type": "display_data"
    },
    {
     "data": {
      "text/plain": [
       "<matplotlib.axes._subplots.AxesSubplot at 0x11d825390>"
      ]
     },
     "execution_count": 32,
     "metadata": {},
     "output_type": "execute_result"
    },
    {
     "data": {
      "image/png": "[encoded data removed]",
      "text/plain": [
       "<Figure size 864x432 with 1 Axes>"
      ]
     },
     "metadata": {
      "needs_background": "light"
     },
     "output_type": "display_data"
    }
   ],
   "source": [
    "url = \"https://raw.githubusercontent.com/plotly/datasets/master/2014_apple_stock.csv\"\n",
    "\n",
    "df = pd.read_csv(url)\n",
    "display(df.head())\n",
    "\n",
    "df['AAPL_x'] = pd.to_datetime(df['AAPL_x'])\n",
    "\n",
    "# Write your code below:\n",
    "df.plot(\n",
    "    x=\"AAPL_x\",\n",
    "    y=\"AAPL_y\",\n",
    "    title=\"Apple's Sotkc Price\",\n",
    "    figsize=(12, 6),\n",
    "    color=\"red\"\n",
    ")"
   ]
  },
  {
   "cell_type": "markdown",
   "metadata": {},
   "source": [
    "<a id=\"1.5.3\"> <h4>1.5.3 Scatterplot </h4></a>\n",
    "\n",
    "\n",
    "_A scatter plot is a two-dimensional data visualization that uses dots to represent the values obtained for two different variables - one plotted along the x-axis and the other plotted along the y-axis._\n",
    "\n",
    "**Example**\n",
    "`Motor Cars Data`\n",
    "\n",
    "source: https://raw.githubusercontent.com/plotly/datasets/master/mtcars.csv"
   ]
  },
  {
   "cell_type": "code",
   "execution_count": 33,
   "metadata": {},
   "outputs": [
    {
     "data": {
      "text/html": [
       "<div>\n",
       "<style scoped>\n",
       "    .dataframe tbody tr th:only-of-type {\n",
       "        vertical-align: middle;\n",
       "    }\n",
       "\n",
       "    .dataframe tbody tr th {\n",
       "        vertical-align: top;\n",
       "    }\n",
       "\n",
       "    .dataframe thead th {\n",
       "        text-align: right;\n",
       "    }\n",
       "</style>\n",
       "<table border=\"1\" class=\"dataframe\">\n",
       "  <thead>\n",
       "    <tr style=\"text-align: right;\">\n",
       "      <th></th>\n",
       "      <th>manufacturer</th>\n",
       "      <th>mpg</th>\n",
       "      <th>cyl</th>\n",
       "      <th>disp</th>\n",
       "      <th>hp</th>\n",
       "      <th>drat</th>\n",
       "      <th>wt</th>\n",
       "      <th>qsec</th>\n",
       "      <th>vs</th>\n",
       "      <th>am</th>\n",
       "      <th>gear</th>\n",
       "      <th>carb</th>\n",
       "    </tr>\n",
       "  </thead>\n",
       "  <tbody>\n",
       "    <tr>\n",
       "      <th>0</th>\n",
       "      <td>Mazda RX4</td>\n",
       "      <td>21.0</td>\n",
       "      <td>6</td>\n",
       "      <td>160.0</td>\n",
       "      <td>110</td>\n",
       "      <td>3.90</td>\n",
       "      <td>2.620</td>\n",
       "      <td>16.46</td>\n",
       "      <td>0</td>\n",
       "      <td>1</td>\n",
       "      <td>4</td>\n",
       "      <td>4</td>\n",
       "    </tr>\n",
       "    <tr>\n",
       "      <th>1</th>\n",
       "      <td>Mazda RX4 Wag</td>\n",
       "      <td>21.0</td>\n",
       "      <td>6</td>\n",
       "      <td>160.0</td>\n",
       "      <td>110</td>\n",
       "      <td>3.90</td>\n",
       "      <td>2.875</td>\n",
       "      <td>17.02</td>\n",
       "      <td>0</td>\n",
       "      <td>1</td>\n",
       "      <td>4</td>\n",
       "      <td>4</td>\n",
       "    </tr>\n",
       "    <tr>\n",
       "      <th>2</th>\n",
       "      <td>Datsun 710</td>\n",
       "      <td>22.8</td>\n",
       "      <td>4</td>\n",
       "      <td>108.0</td>\n",
       "      <td>93</td>\n",
       "      <td>3.85</td>\n",
       "      <td>2.320</td>\n",
       "      <td>18.61</td>\n",
       "      <td>1</td>\n",
       "      <td>1</td>\n",
       "      <td>4</td>\n",
       "      <td>1</td>\n",
       "    </tr>\n",
       "    <tr>\n",
       "      <th>3</th>\n",
       "      <td>Hornet 4 Drive</td>\n",
       "      <td>21.4</td>\n",
       "      <td>6</td>\n",
       "      <td>258.0</td>\n",
       "      <td>110</td>\n",
       "      <td>3.08</td>\n",
       "      <td>3.215</td>\n",
       "      <td>19.44</td>\n",
       "      <td>1</td>\n",
       "      <td>0</td>\n",
       "      <td>3</td>\n",
       "      <td>1</td>\n",
       "    </tr>\n",
       "    <tr>\n",
       "      <th>4</th>\n",
       "      <td>Hornet Sportabout</td>\n",
       "      <td>18.7</td>\n",
       "      <td>8</td>\n",
       "      <td>360.0</td>\n",
       "      <td>175</td>\n",
       "      <td>3.15</td>\n",
       "      <td>3.440</td>\n",
       "      <td>17.02</td>\n",
       "      <td>0</td>\n",
       "      <td>0</td>\n",
       "      <td>3</td>\n",
       "      <td>2</td>\n",
       "    </tr>\n",
       "  </tbody>\n",
       "</table>\n",
       "</div>"
      ],
      "text/plain": [
       "        manufacturer   mpg  cyl   disp   hp  drat     wt   qsec  vs  am  gear  \\\n",
       "0          Mazda RX4  21.0    6  160.0  110  3.90  2.620  16.46   0   1     4   \n",
       "1      Mazda RX4 Wag  21.0    6  160.0  110  3.90  2.875  17.02   0   1     4   \n",
       "2         Datsun 710  22.8    4  108.0   93  3.85  2.320  18.61   1   1     4   \n",
       "3     Hornet 4 Drive  21.4    6  258.0  110  3.08  3.215  19.44   1   0     3   \n",
       "4  Hornet Sportabout  18.7    8  360.0  175  3.15  3.440  17.02   0   0     3   \n",
       "\n",
       "   carb  \n",
       "0     4  \n",
       "1     4  \n",
       "2     1  \n",
       "3     1  \n",
       "4     2  "
      ]
     },
     "metadata": {},
     "output_type": "display_data"
    },
    {
     "data": {
      "text/plain": [
       "<matplotlib.axes._subplots.AxesSubplot at 0x11d8fe8d0>"
      ]
     },
     "execution_count": 33,
     "metadata": {},
     "output_type": "execute_result"
    },
    {
     "data": {
      "image/png": "[encoded data removed]",
      "text/plain": [
       "<Figure size 432x288 with 1 Axes>"
      ]
     },
     "metadata": {
      "needs_background": "light"
     },
     "output_type": "display_data"
    }
   ],
   "source": [
    "url = \"https://raw.githubusercontent.com/plotly/datasets/master/mtcars.csv\"\n",
    "\n",
    "df = pd.read_csv(url)\n",
    "\n",
    "display(df.head())\n",
    "\n",
    "# Write your code below:\n",
    "df.plot(\n",
    "    kind=\"scatter\",\n",
    "    x=\"mpg\",\n",
    "    y=\"hp\",\n",
    ")\n"
   ]
  },
  {
   "cell_type": "markdown",
   "metadata": {},
   "source": [
    "<a id=\"P2\"><h2><img src=\"https://cdn.shopify.com/s/files/1/1200/7374/products/book_aec28e76-52ec-44ab-bc01-41df1279c89f_550x825.png?v=1473897430\" width=25 align=\"left\"> <font color=\"darkorange\"> &nbsp; Practice II </font><font color=\"skyblue\"> * </font></h2></a>\n",
    "\n",
    "The following `Dataframe` holds data of countries' **life expectancies** and **GDP**.\n",
    "\n",
    "Investigate and visualise (with matplotlib) the relationship between any pair of these variables with an appropriate chart."
   ]
  },
  {
   "cell_type": "code",
   "execution_count": 34,
   "metadata": {},
   "outputs": [
    {
     "data": {
      "text/html": [
       "<div>\n",
       "<style scoped>\n",
       "    .dataframe tbody tr th:only-of-type {\n",
       "        vertical-align: middle;\n",
       "    }\n",
       "\n",
       "    .dataframe tbody tr th {\n",
       "        vertical-align: top;\n",
       "    }\n",
       "\n",
       "    .dataframe thead th {\n",
       "        text-align: right;\n",
       "    }\n",
       "</style>\n",
       "<table border=\"1\" class=\"dataframe\">\n",
       "  <thead>\n",
       "    <tr style=\"text-align: right;\">\n",
       "      <th></th>\n",
       "      <th>country</th>\n",
       "      <th>life expectancy</th>\n",
       "      <th>GDP per capita</th>\n",
       "      <th>population</th>\n",
       "      <th>year</th>\n",
       "    </tr>\n",
       "  </thead>\n",
       "  <tbody>\n",
       "    <tr>\n",
       "      <th>0</th>\n",
       "      <td>Algeria</td>\n",
       "      <td>72.301</td>\n",
       "      <td>6223.367465</td>\n",
       "      <td>33333216.0</td>\n",
       "      <td>2007</td>\n",
       "    </tr>\n",
       "    <tr>\n",
       "      <th>1</th>\n",
       "      <td>Angola</td>\n",
       "      <td>42.731</td>\n",
       "      <td>4797.231267</td>\n",
       "      <td>12420476.0</td>\n",
       "      <td>2007</td>\n",
       "    </tr>\n",
       "    <tr>\n",
       "      <th>2</th>\n",
       "      <td>Benin</td>\n",
       "      <td>56.728</td>\n",
       "      <td>1441.284873</td>\n",
       "      <td>8078314.0</td>\n",
       "      <td>2007</td>\n",
       "    </tr>\n",
       "    <tr>\n",
       "      <th>3</th>\n",
       "      <td>Botswana</td>\n",
       "      <td>50.728</td>\n",
       "      <td>12569.851770</td>\n",
       "      <td>1639131.0</td>\n",
       "      <td>2007</td>\n",
       "    </tr>\n",
       "    <tr>\n",
       "      <th>4</th>\n",
       "      <td>Burkina Faso</td>\n",
       "      <td>52.295</td>\n",
       "      <td>1217.032994</td>\n",
       "      <td>14326203.0</td>\n",
       "      <td>2007</td>\n",
       "    </tr>\n",
       "  </tbody>\n",
       "</table>\n",
       "</div>"
      ],
      "text/plain": [
       "        country  life expectancy  GDP per capita  population  year\n",
       "0       Algeria           72.301     6223.367465  33333216.0  2007\n",
       "1        Angola           42.731     4797.231267  12420476.0  2007\n",
       "2         Benin           56.728     1441.284873   8078314.0  2007\n",
       "3      Botswana           50.728    12569.851770   1639131.0  2007\n",
       "4  Burkina Faso           52.295     1217.032994  14326203.0  2007"
      ]
     },
     "metadata": {},
     "output_type": "display_data"
    },
    {
     "data": {
      "text/plain": [
       "<matplotlib.axes._subplots.AxesSubplot at 0x11dacd5f8>"
      ]
     },
     "execution_count": 34,
     "metadata": {},
     "output_type": "execute_result"
    },
    {
     "data": {
      "image/png": "[encoded data removed]",
      "text/plain": [
       "<Figure size 432x288 with 1 Axes>"
      ]
     },
     "metadata": {
      "needs_background": "light"
     },
     "output_type": "display_data"
    }
   ],
   "source": [
    "url = \"https://raw.githubusercontent.com/plotly/datasets/master/bubble_chart_tutorial.csv\"\n",
    "\n",
    "# Write your code below:\n",
    "# Step 1: Read dataset\n",
    "df = pd.read_csv(url)\n",
    "\n",
    "# Step 2: Display the dataset\n",
    "display(df.head())\n",
    "\n",
    "# Step 3: Plot the scatterplot\n",
    "df.plot(\n",
    "    kind=\"scatter\",\n",
    "    x=\"GDP per capita\",\n",
    "    y=\"life expectancy\",\n",
    ")\n"
   ]
  },
  {
   "cell_type": "markdown",
   "metadata": {},
   "source": [
    "<a id='2'><h2><img src=\"https://images.vexels.com/media/users/3/153978/isolated/preview/483ef8b10a46e28d02293a31570c8c56-warning-sign-colored-stroke-icon-by-vexels.png\" width=25 align=\"left\"><font color=\"salmon\">&nbsp;2.</font><font color=\"salmon\"> Airbnb Dataset </font> </h2></a>\n",
    "\n",
    "<img src=\"http://www.stickpng.com/assets/images/580b57fcd9996e24bc43c513.png\" width=\"400\">\n",
    "<br>\n",
    "</br>\n",
    "<br>\n",
    "</br>\n",
    "\n",
    "<b>Welcome to your final project of Hackwagon Academy DS101! You've come a long way since the start of this course and if you've been on track with our exercises, you should find this doable. </b>\n",
    "\n",
    "Airbnb is an online marketplace and hospitality service, enabling people to lease or rent short-term lodging including vacation rentals, apartment rentals, homestays, hostel beds, or hotel rooms. The company does not own any lodging; it is merely a broker and receives percentage service fees (commissions) from both guests and hosts in conjunction with every booking. In this project, we aim to use algorithms and libraries to mine the reviews people have submitted on Singapore AirBnB rentals in order to provide descriptive analytics.\n",
    "\n",
    "Start by reading the dataset:"
   ]
  },
  {
   "cell_type": "code",
   "execution_count": 35,
   "metadata": {},
   "outputs": [
    {
     "data": {
      "text/html": [
       "<div>\n",
       "<style scoped>\n",
       "    .dataframe tbody tr th:only-of-type {\n",
       "        vertical-align: middle;\n",
       "    }\n",
       "\n",
       "    .dataframe tbody tr th {\n",
       "        vertical-align: top;\n",
       "    }\n",
       "\n",
       "    .dataframe thead th {\n",
       "        text-align: right;\n",
       "    }\n",
       "</style>\n",
       "<table border=\"1\" class=\"dataframe\">\n",
       "  <thead>\n",
       "    <tr style=\"text-align: right;\">\n",
       "      <th></th>\n",
       "      <th>listing_id</th>\n",
       "      <th>survey_id</th>\n",
       "      <th>host_id</th>\n",
       "      <th>room_type</th>\n",
       "      <th>country</th>\n",
       "      <th>city</th>\n",
       "      <th>borough</th>\n",
       "      <th>neighborhood</th>\n",
       "      <th>reviews</th>\n",
       "      <th>overall_satisfaction</th>\n",
       "      <th>accommodates</th>\n",
       "      <th>bedrooms</th>\n",
       "      <th>bathrooms</th>\n",
       "      <th>price</th>\n",
       "      <th>minstay</th>\n",
       "      <th>last_modified</th>\n",
       "      <th>latitude</th>\n",
       "      <th>longitude</th>\n",
       "      <th>location</th>\n",
       "    </tr>\n",
       "  </thead>\n",
       "  <tbody>\n",
       "    <tr>\n",
       "      <th>0</th>\n",
       "      <td>1133718</td>\n",
       "      <td>1280</td>\n",
       "      <td>6219420</td>\n",
       "      <td>Shared room</td>\n",
       "      <td>NaN</td>\n",
       "      <td>Singapore</td>\n",
       "      <td>NaN</td>\n",
       "      <td>MK03</td>\n",
       "      <td>9</td>\n",
       "      <td>4.5</td>\n",
       "      <td>12</td>\n",
       "      <td>1.0</td>\n",
       "      <td>NaN</td>\n",
       "      <td>74.0</td>\n",
       "      <td>NaN</td>\n",
       "      <td>2017-05-17 09:10:25.431659</td>\n",
       "      <td>1.293354</td>\n",
       "      <td>103.769226</td>\n",
       "      <td>0101000020E6100000E84EB0FF3AF159409C69C2F693B1...</td>\n",
       "    </tr>\n",
       "    <tr>\n",
       "      <th>1</th>\n",
       "      <td>3179080</td>\n",
       "      <td>1280</td>\n",
       "      <td>15295886</td>\n",
       "      <td>Shared room</td>\n",
       "      <td>NaN</td>\n",
       "      <td>Singapore</td>\n",
       "      <td>NaN</td>\n",
       "      <td>TS17</td>\n",
       "      <td>15</td>\n",
       "      <td>5.0</td>\n",
       "      <td>12</td>\n",
       "      <td>1.0</td>\n",
       "      <td>NaN</td>\n",
       "      <td>77.0</td>\n",
       "      <td>NaN</td>\n",
       "      <td>2017-05-17 09:10:24.216548</td>\n",
       "      <td>1.310862</td>\n",
       "      <td>103.858828</td>\n",
       "      <td>0101000020E6100000E738B709F7F659403F1BB96E4AF9...</td>\n",
       "    </tr>\n",
       "    <tr>\n",
       "      <th>2</th>\n",
       "      <td>15303457</td>\n",
       "      <td>1280</td>\n",
       "      <td>97053568</td>\n",
       "      <td>Shared room</td>\n",
       "      <td>NaN</td>\n",
       "      <td>Singapore</td>\n",
       "      <td>NaN</td>\n",
       "      <td>MK05</td>\n",
       "      <td>0</td>\n",
       "      <td>0.0</td>\n",
       "      <td>14</td>\n",
       "      <td>1.0</td>\n",
       "      <td>NaN</td>\n",
       "      <td>60.0</td>\n",
       "      <td>NaN</td>\n",
       "      <td>2017-05-17 09:10:16.969900</td>\n",
       "      <td>1.333744</td>\n",
       "      <td>103.764612</td>\n",
       "      <td>0101000020E610000044882B67EFF0594093C7D3F20357...</td>\n",
       "    </tr>\n",
       "    <tr>\n",
       "      <th>3</th>\n",
       "      <td>13902389</td>\n",
       "      <td>1280</td>\n",
       "      <td>6219420</td>\n",
       "      <td>Shared room</td>\n",
       "      <td>NaN</td>\n",
       "      <td>Singapore</td>\n",
       "      <td>NaN</td>\n",
       "      <td>MK03</td>\n",
       "      <td>0</td>\n",
       "      <td>0.0</td>\n",
       "      <td>12</td>\n",
       "      <td>1.0</td>\n",
       "      <td>NaN</td>\n",
       "      <td>30.0</td>\n",
       "      <td>NaN</td>\n",
       "      <td>2017-05-17 09:10:15.196321</td>\n",
       "      <td>1.294119</td>\n",
       "      <td>103.769178</td>\n",
       "      <td>0101000020E61000005FB35C363AF15940971DE21FB6B4...</td>\n",
       "    </tr>\n",
       "    <tr>\n",
       "      <th>4</th>\n",
       "      <td>13902391</td>\n",
       "      <td>1280</td>\n",
       "      <td>6219420</td>\n",
       "      <td>Shared room</td>\n",
       "      <td>NaN</td>\n",
       "      <td>Singapore</td>\n",
       "      <td>NaN</td>\n",
       "      <td>MK03</td>\n",
       "      <td>1</td>\n",
       "      <td>0.0</td>\n",
       "      <td>12</td>\n",
       "      <td>1.0</td>\n",
       "      <td>NaN</td>\n",
       "      <td>30.0</td>\n",
       "      <td>NaN</td>\n",
       "      <td>2017-05-17 09:10:15.170457</td>\n",
       "      <td>1.292766</td>\n",
       "      <td>103.768432</td>\n",
       "      <td>0101000020E6100000CB4C69FD2DF159407F17B6662BAF...</td>\n",
       "    </tr>\n",
       "  </tbody>\n",
       "</table>\n",
       "</div>"
      ],
      "text/plain": [
       "   listing_id  survey_id   host_id    room_type  country       city  borough  \\\n",
       "0     1133718       1280   6219420  Shared room      NaN  Singapore      NaN   \n",
       "1     3179080       1280  15295886  Shared room      NaN  Singapore      NaN   \n",
       "2    15303457       1280  97053568  Shared room      NaN  Singapore      NaN   \n",
       "3    13902389       1280   6219420  Shared room      NaN  Singapore      NaN   \n",
       "4    13902391       1280   6219420  Shared room      NaN  Singapore      NaN   \n",
       "\n",
       "  neighborhood  reviews  overall_satisfaction  accommodates  bedrooms  \\\n",
       "0         MK03        9                   4.5            12       1.0   \n",
       "1         TS17       15                   5.0            12       1.0   \n",
       "2         MK05        0                   0.0            14       1.0   \n",
       "3         MK03        0                   0.0            12       1.0   \n",
       "4         MK03        1                   0.0            12       1.0   \n",
       "\n",
       "   bathrooms  price  minstay               last_modified  latitude  \\\n",
       "0        NaN   74.0      NaN  2017-05-17 09:10:25.431659  1.293354   \n",
       "1        NaN   77.0      NaN  2017-05-17 09:10:24.216548  1.310862   \n",
       "2        NaN   60.0      NaN  2017-05-17 09:10:16.969900  1.333744   \n",
       "3        NaN   30.0      NaN  2017-05-17 09:10:15.196321  1.294119   \n",
       "4        NaN   30.0      NaN  2017-05-17 09:10:15.170457  1.292766   \n",
       "\n",
       "    longitude                                           location  \n",
       "0  103.769226  0101000020E6100000E84EB0FF3AF159409C69C2F693B1...  \n",
       "1  103.858828  0101000020E6100000E738B709F7F659403F1BB96E4AF9...  \n",
       "2  103.764612  0101000020E610000044882B67EFF0594093C7D3F20357...  \n",
       "3  103.769178  0101000020E61000005FB35C363AF15940971DE21FB6B4...  \n",
       "4  103.768432  0101000020E6100000CB4C69FD2DF159407F17B6662BAF...  "
      ]
     },
     "execution_count": 35,
     "metadata": {},
     "output_type": "execute_result"
    }
   ],
   "source": [
    "# Write your code below:\n",
    "df = pd.read_csv(\"airbnb_data.csv\")\n",
    "df.head()"
   ]
  },
  {
   "cell_type": "markdown",
   "metadata": {},
   "source": [
    "<h4> Q1. List out each neighborhoods and their number of listings <font color='red'>(5 marks)</font></h4>\n",
    "\n",
    "<i> Hint\n",
    "1. Counting with dictionaries\n",
    "</i>\n",
    "\n",
    "<b>Expected Output:</b>\n",
    "\n",
    "    When you search for ['TS17'], it should give you 342 counts."
   ]
  },
  {
   "cell_type": "code",
   "execution_count": 37,
   "metadata": {},
   "outputs": [
    {
     "data": {
      "text/plain": [
       "342"
      ]
     },
     "execution_count": 37,
     "metadata": {},
     "output_type": "execute_result"
    }
   ],
   "source": [
    "# Write your code below:\n",
    "num_listings = df[\"neighborhood\"].value_counts()\n",
    "num_listings[\"TS17\"]"
   ]
  },
  {
   "cell_type": "markdown",
   "metadata": {},
   "source": [
    "<h4> Q2. List out each neighborhood and their average overall_satisfaction <font color='red'>(5 marks)</font> </h4>\n",
    "\n",
    "<b>Note: You should filter out listings whose reviews are 0. </b>\n",
    "\n",
    "<i> Hint\n",
    "1. Create dictionary where key is the neighborhood_id and value is a list of overall_satisfaction\n",
    "2. Create another dictionary to compute the average\n",
    "</i>\n",
    "\n",
    "<b>Expected Output:</b>\n",
    "    \n",
    "    When you search for ['TS17'], it should give you an average score of 2.859447004608295."
   ]
  },
  {
   "cell_type": "code",
   "execution_count": 38,
   "metadata": {
    "scrolled": true
   },
   "outputs": [
    {
     "data": {
      "text/plain": [
       "2.859447004608295"
      ]
     },
     "execution_count": 38,
     "metadata": {},
     "output_type": "execute_result"
    }
   ],
   "source": [
    "# Write your code below:\n",
    "listings_w_reviews = df[df[\"reviews\"] > 0]\n",
    "mean_scores = listings_w_reviews.groupby(\"neighborhood\")[\"overall_satisfaction\"].mean()\n",
    "mean_scores[\"TS17\"]"
   ]
  },
  {
   "cell_type": "markdown",
   "metadata": {},
   "source": [
    "<h4> Q3. List out each neighborhood and their average price <font color='red'>(5 marks)</font></h4>\n",
    "\n",
    "<i> Hint\n",
    "1. Similar to previous question\n",
    "</i>\n",
    "\n",
    "<b>Expected Output:</b>\n",
    "\n",
    "    When you search for ['TS17'], it should give you an average price of 95.5672514619883."
   ]
  },
  {
   "cell_type": "code",
   "execution_count": 39,
   "metadata": {},
   "outputs": [
    {
     "data": {
      "text/plain": [
       "95.5672514619883"
      ]
     },
     "execution_count": 39,
     "metadata": {},
     "output_type": "execute_result"
    }
   ],
   "source": [
    "# Write your code below:\n",
    "avg_price = df.groupby(\"neighborhood\")[\"price\"].mean()\n",
    "avg_price[\"TS17\"]"
   ]
  },
  {
   "cell_type": "markdown",
   "metadata": {},
   "source": [
    "<h4> Q4. Plot a distribution of counts of the overall_satisfaction <font color='red'>(5 marks)</font></h4>\n",
    "\n",
    "<b>Note: You should filter out listings whose reviews are 0. </b>\n",
    "\n",
    "<i> Hint\n",
    "1. Counting with dictionaries\n",
    "2. Get a list of tuples with `.items()`\n",
    "3. Create 2 lists: \n",
    "    - 1 for all the scores labels\n",
    "    - 1 for all the counts \n",
    "4. Plot with the 2 lists\n",
    "</i>\n",
    "\n",
    "<b>Expected Output:</b>\n",
    "\n",
    "<img src=\"https://i.imgur.com/bj0ecjO.png\" width=\"300\">"
   ]
  },
  {
   "cell_type": "code",
   "execution_count": 43,
   "metadata": {},
   "outputs": [
    {
     "data": {
      "text/plain": [
       "<matplotlib.axes._subplots.AxesSubplot at 0x11dcc75c0>"
      ]
     },
     "execution_count": 43,
     "metadata": {},
     "output_type": "execute_result"
    },
    {
     "data": {
      "image/png": "[encoded data removed]",
      "text/plain": [
       "<Figure size 432x288 with 1 Axes>"
      ]
     },
     "metadata": {
      "needs_background": "light"
     },
     "output_type": "display_data"
    }
   ],
   "source": [
    "# Write your code below:\n",
    "listing_w_reviews = df[df[\"reviews\"] > 0]\n",
    "listing_w_reviews[\"overall_satisfaction\"].plot(kind=\"hist\", bins=12)"
   ]
  },
  {
   "cell_type": "markdown",
   "metadata": {},
   "source": [
    "<h4> Q5. Plot a geographical representation of all of the listings in Singapore <font color='red'>(5 marks)</font></h4>\n",
    "\n",
    "<i> Hint\n",
    "1. Create a list for latitude\n",
    "2. Create a list for longitude\n",
    "3. Append each listing's latitude and logitude to the lists\n",
    "4. Plot a scatter plot using both lists\n",
    "</i>\n",
    "\n",
    "<b>Expected Output:</b>\n",
    "\n",
    "<img src='https://i.imgur.com/9Dp5HrD.png' width=\"300\">    "
   ]
  },
  {
   "cell_type": "code",
   "execution_count": 47,
   "metadata": {},
   "outputs": [
    {
     "data": {
      "text/plain": [
       "<matplotlib.axes._subplots.AxesSubplot at 0x11dfd0c18>"
      ]
     },
     "execution_count": 47,
     "metadata": {},
     "output_type": "execute_result"
    },
    {
     "data": {
      "image/png": "[encoded data removed]",
      "text/plain": [
       "<Figure size 432x288 with 2 Axes>"
      ]
     },
     "metadata": {
      "needs_background": "light"
     },
     "output_type": "display_data"
    }
   ],
   "source": [
    "df.plot(\n",
    "    kind=\"scatter\",\n",
    "    x=\"longitude\",\n",
    "    y=\"latitude\",\n",
    "    c=\"overall_satisfaction\",\n",
    "    colormap=\"coolwarm\"\n",
    ")"
   ]
  },
  {
   "cell_type": "markdown",
   "metadata": {},
   "source": [
    "<a id=\"P3\"><h2><img src=\"https://cdn.shopify.com/s/files/1/1200/7374/products/book_aec28e76-52ec-44ab-bc01-41df1279c89f_550x825.png?v=1473897430\" width=25 align=\"left\"> <font color=\"darkorange\"> &nbsp; Practice III </font><font color=\"skyblue\"> * </font></h2></a>\n",
    "\n",
    "\n",
    "<img src=\"https://s.yimg.com/ny/api/res/1.2/_qLpCqbdgKq0nnY3UDmI2w--~A/YXBwaWQ9aGlnaGxhbmRlcjtzbT0xO3c9NzQ0O2g9Mzcy/http://media.zenfs.com/en/homerun/feed_manager_auto_publish_494/87db61c8ea6d6fcc4122595bb0c0c2c5\" width=\"300\">\n",
    "\n",
    "This dataset has been source from the Lazada marketplace, where we have above <b>36 thousand rows</b> of data to work with. <b>Each row represents one product</b>. Opening this file in Microsoft Excel would look like this:\n",
    "\n",
    "<img src=\"https://i.imgur.com/E0QJP92.png\" width=\"500\">\n",
    "\n",
    "We're going to do some simple analysis with these products and see what we can come up with."
   ]
  },
  {
   "cell_type": "markdown",
   "metadata": {},
   "source": [
    "#### Read Dataset"
   ]
  },
  {
   "cell_type": "code",
   "execution_count": 48,
   "metadata": {},
   "outputs": [
    {
     "data": {
      "text/html": [
       "<div>\n",
       "<style scoped>\n",
       "    .dataframe tbody tr th:only-of-type {\n",
       "        vertical-align: middle;\n",
       "    }\n",
       "\n",
       "    .dataframe tbody tr th {\n",
       "        vertical-align: top;\n",
       "    }\n",
       "\n",
       "    .dataframe thead th {\n",
       "        text-align: right;\n",
       "    }\n",
       "</style>\n",
       "<table border=\"1\" class=\"dataframe\">\n",
       "  <thead>\n",
       "    <tr style=\"text-align: right;\">\n",
       "      <th></th>\n",
       "      <th>country</th>\n",
       "      <th>sku_id</th>\n",
       "      <th>title</th>\n",
       "      <th>category_lvl_1</th>\n",
       "      <th>category_lvl_2</th>\n",
       "      <th>category_lvl_3</th>\n",
       "      <th>short_description</th>\n",
       "      <th>price</th>\n",
       "      <th>product_type</th>\n",
       "    </tr>\n",
       "  </thead>\n",
       "  <tbody>\n",
       "    <tr>\n",
       "      <th>0</th>\n",
       "      <td>my</td>\n",
       "      <td>AD674FAASTLXANMY</td>\n",
       "      <td>Adana Gallery Suri Square Hijab – Light Pink</td>\n",
       "      <td>Fashion</td>\n",
       "      <td>Women</td>\n",
       "      <td>Muslim Wear</td>\n",
       "      <td>&lt;ul&gt;&lt;li&gt;Material : Non sheer shimmer chiffon&lt;/...</td>\n",
       "      <td>49.00</td>\n",
       "      <td>local</td>\n",
       "    </tr>\n",
       "    <tr>\n",
       "      <th>1</th>\n",
       "      <td>my</td>\n",
       "      <td>AE068HBAA3RPRDANMY</td>\n",
       "      <td>Cuba Heartbreaker Eau De Parfum Spray 100ml/3.3oz</td>\n",
       "      <td>Health &amp; Beauty</td>\n",
       "      <td>Bath &amp; Body</td>\n",
       "      <td>Hand &amp; Foot Care</td>\n",
       "      <td>Formulated with oil-free hydrating botanicals/...</td>\n",
       "      <td>128.00</td>\n",
       "      <td>international</td>\n",
       "    </tr>\n",
       "    <tr>\n",
       "      <th>2</th>\n",
       "      <td>my</td>\n",
       "      <td>AN680ELAA9VN57ANMY</td>\n",
       "      <td>Andoer 150cm Cellphone Smartphone Mini Dual-He...</td>\n",
       "      <td>TV Audio / Video Gaming &amp; Wearables</td>\n",
       "      <td>Audio</td>\n",
       "      <td>Live Sound &amp; Stage</td>\n",
       "      <td>&lt;ul&gt; &lt;li&gt;150cm mini microphone compatible for ...</td>\n",
       "      <td>25.07</td>\n",
       "      <td>international</td>\n",
       "    </tr>\n",
       "    <tr>\n",
       "      <th>3</th>\n",
       "      <td>my</td>\n",
       "      <td>AN957HBAAAHDF4ANMY</td>\n",
       "      <td>ANMYNA Complaint Silky Set 柔顺洗发配套 (Shampoo 520...</td>\n",
       "      <td>Health &amp; Beauty</td>\n",
       "      <td>Hair Care</td>\n",
       "      <td>Shampoos &amp; Conditioners</td>\n",
       "      <td>&lt;ul&gt; &lt;li&gt;ANMYNA Complaint Silky Set (Shampoo 5...</td>\n",
       "      <td>118.00</td>\n",
       "      <td>local</td>\n",
       "    </tr>\n",
       "    <tr>\n",
       "      <th>4</th>\n",
       "      <td>my</td>\n",
       "      <td>AR511HBAXNWAANMY</td>\n",
       "      <td>Argital Argiltubo Green Clay For Face and Body...</td>\n",
       "      <td>Health &amp; Beauty</td>\n",
       "      <td>Men's Care</td>\n",
       "      <td>Body and Skin Care</td>\n",
       "      <td>&lt;ul&gt; &lt;li&gt;100% Authentic&lt;/li&gt; &lt;li&gt;Rrefresh and ...</td>\n",
       "      <td>114.80</td>\n",
       "      <td>international</td>\n",
       "    </tr>\n",
       "  </tbody>\n",
       "</table>\n",
       "</div>"
      ],
      "text/plain": [
       "  country              sku_id  \\\n",
       "0      my    AD674FAASTLXANMY   \n",
       "1      my  AE068HBAA3RPRDANMY   \n",
       "2      my  AN680ELAA9VN57ANMY   \n",
       "3      my  AN957HBAAAHDF4ANMY   \n",
       "4      my    AR511HBAXNWAANMY   \n",
       "\n",
       "                                               title  \\\n",
       "0       Adana Gallery Suri Square Hijab – Light Pink   \n",
       "1  Cuba Heartbreaker Eau De Parfum Spray 100ml/3.3oz   \n",
       "2  Andoer 150cm Cellphone Smartphone Mini Dual-He...   \n",
       "3  ANMYNA Complaint Silky Set 柔顺洗发配套 (Shampoo 520...   \n",
       "4  Argital Argiltubo Green Clay For Face and Body...   \n",
       "\n",
       "                        category_lvl_1 category_lvl_2  \\\n",
       "0                              Fashion          Women   \n",
       "1                      Health & Beauty    Bath & Body   \n",
       "2  TV Audio / Video Gaming & Wearables          Audio   \n",
       "3                      Health & Beauty      Hair Care   \n",
       "4                      Health & Beauty     Men's Care   \n",
       "\n",
       "            category_lvl_3                                  short_description  \\\n",
       "0              Muslim Wear  <ul><li>Material : Non sheer shimmer chiffon</...   \n",
       "1         Hand & Foot Care  Formulated with oil-free hydrating botanicals/...   \n",
       "2       Live Sound & Stage  <ul> <li>150cm mini microphone compatible for ...   \n",
       "3  Shampoos & Conditioners  <ul> <li>ANMYNA Complaint Silky Set (Shampoo 5...   \n",
       "4       Body and Skin Care  <ul> <li>100% Authentic</li> <li>Rrefresh and ...   \n",
       "\n",
       "    price   product_type  \n",
       "0   49.00          local  \n",
       "1  128.00  international  \n",
       "2   25.07  international  \n",
       "3  118.00          local  \n",
       "4  114.80  international  "
      ]
     },
     "execution_count": 48,
     "metadata": {},
     "output_type": "execute_result"
    }
   ],
   "source": [
    "# Write your code below:\n",
    "\n",
    "df = pd.read_csv('lazada_data.csv')\n",
    "df.head()"
   ]
  },
  {
   "cell_type": "markdown",
   "metadata": {},
   "source": [
    "<h3>Descriptive Analytics </h3>\n",
    "\n",
    "#### Question 1\n",
    "How many items are more than $50?"
   ]
  },
  {
   "cell_type": "code",
   "execution_count": 49,
   "metadata": {},
   "outputs": [
    {
     "data": {
      "text/plain": [
       "21135"
      ]
     },
     "execution_count": 49,
     "metadata": {},
     "output_type": "execute_result"
    }
   ],
   "source": [
    "# Write your code below:\n",
    "\n",
    "more_than_50 = df[df['price'] > 50]\n",
    "len(more_than_50)"
   ]
  },
  {
   "cell_type": "markdown",
   "metadata": {},
   "source": [
    "#### Question 2\n",
    "How many items are listed in <b>Singapore</b>, <b>Malaysia</b>, <b>Phillippines</b>?\n"
   ]
  },
  {
   "cell_type": "code",
   "execution_count": 50,
   "metadata": {},
   "outputs": [
    {
     "data": {
      "text/plain": [
       "my    16413\n",
       "ph    11232\n",
       "sg     8638\n",
       "Name: country, dtype: int64"
      ]
     },
     "execution_count": 50,
     "metadata": {},
     "output_type": "execute_result"
    }
   ],
   "source": [
    "# Write your code below:\n",
    "\n",
    "df['country'].value_counts()"
   ]
  },
  {
   "cell_type": "markdown",
   "metadata": {},
   "source": [
    "#### Question 3\n",
    "\n",
    "For the `category_1` of `Fashion`, how many items are for `Men` and how many items are for `Women`?"
   ]
  },
  {
   "cell_type": "code",
   "execution_count": 53,
   "metadata": {},
   "outputs": [
    {
     "name": "stdout",
     "output_type": "stream",
     "text": [
      "1609\n",
      "3944\n"
     ]
    }
   ],
   "source": [
    "# Write your code below:\n",
    "\n",
    "fashion_cond = df['category_lvl_1'] == \"Fashion\"\n",
    "men_cond = df[\"category_lvl_2\"] == \"Men\"\n",
    "women_cond = df[\"category_lvl_2\"] == \"Women\"\n",
    "\n",
    "df_men = df[fashion_cond & men_cond]\n",
    "df_women = df[fashion_cond & women_cond]\n",
    "\n",
    "print(len(df_men))\n",
    "print(len(df_women))"
   ]
  },
  {
   "cell_type": "markdown",
   "metadata": {},
   "source": [
    "### Visualisation\n",
    "\n",
    "####  Distribution of SG Category Level 1 Products"
   ]
  },
  {
   "cell_type": "code",
   "execution_count": 54,
   "metadata": {},
   "outputs": [
    {
     "data": {
      "text/plain": [
       "<matplotlib.axes._subplots.AxesSubplot at 0x11f30d710>"
      ]
     },
     "execution_count": 54,
     "metadata": {},
     "output_type": "execute_result"
    },
    {
     "data": {
      "image/png": "[encoded data removed]",
      "text/plain": [
       "<Figure size 432x288 with 1 Axes>"
      ]
     },
     "metadata": {
      "needs_background": "light"
     },
     "output_type": "display_data"
    }
   ],
   "source": [
    "# Write your code below:\n",
    "\n",
    "df_sg = df[df[\"country\"] == 'sg']\n",
    "df_sg['category_lvl_1'].value_counts().plot(kind='barh')"
   ]
  },
  {
   "cell_type": "markdown",
   "metadata": {},
   "source": [
    "####  Distribution of MY Category Level 1 Products"
   ]
  },
  {
   "cell_type": "code",
   "execution_count": 55,
   "metadata": {},
   "outputs": [
    {
     "data": {
      "text/plain": [
       "<matplotlib.axes._subplots.AxesSubplot at 0x11f475358>"
      ]
     },
     "execution_count": 55,
     "metadata": {},
     "output_type": "execute_result"
    },
    {
     "data": {
      "image/png": "[encoded data removed]",
      "text/plain": [
       "<Figure size 432x288 with 1 Axes>"
      ]
     },
     "metadata": {
      "needs_background": "light"
     },
     "output_type": "display_data"
    }
   ],
   "source": [
    "# Write your code below:\n",
    "\n",
    "df_my = df[df[\"country\"] == 'my']\n",
    "df_my['category_lvl_1'].value_counts().plot(kind='barh')"
   ]
  },
  {
   "cell_type": "markdown",
   "metadata": {},
   "source": [
    "####  Distribution of PH Category Level 1 Products"
   ]
  },
  {
   "cell_type": "code",
   "execution_count": 56,
   "metadata": {},
   "outputs": [
    {
     "data": {
      "text/plain": [
       "<matplotlib.axes._subplots.AxesSubplot at 0x11dfc4f98>"
      ]
     },
     "execution_count": 56,
     "metadata": {},
     "output_type": "execute_result"
    },
    {
     "data": {
      "image/png": "[encoded data removed]",
      "text/plain": [
       "<Figure size 432x288 with 1 Axes>"
      ]
     },
     "metadata": {
      "needs_background": "light"
     },
     "output_type": "display_data"
    }
   ],
   "source": [
    "# Write your code below:\n",
    "\n",
    "df_ph = df[df[\"country\"] == 'ph']\n",
    "df_ph['category_lvl_1'].value_counts().plot(kind='barh')"
   ]
  },
  {
   "cell_type": "code",
   "execution_count": null,
   "metadata": {},
   "outputs": [],
   "source": []
  }
 ],
 "metadata": {
  "kernelspec": {
   "display_name": "Python 3",
   "language": "python",
   "name": "python3"
  },
  "language_info": {
   "codemirror_mode": {
    "name": "ipython",
    "version": 3
   },
   "file_extension": ".py",
   "mimetype": "text/x-python",
   "name": "python",
   "nbconvert_exporter": "python",
   "pygments_lexer": "ipython3",
   "version": "3.7.3"
  }
 },
 "nbformat": 4,
 "nbformat_minor": 2
}
